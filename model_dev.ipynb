{
 "cells": [
  {
   "cell_type": "markdown",
   "metadata": {},
   "source": [
    "import data from kaggle\n",
    "- train.csv\n",
    "- test.csv\n",
    "- sample.csv"
   ]
  },
  {
   "cell_type": "markdown",
   "metadata": {},
   "source": []
  }
 ],
 "metadata": {
  "language_info": {
   "name": "python"
  }
 },
 "nbformat": 4,
 "nbformat_minor": 2
}
