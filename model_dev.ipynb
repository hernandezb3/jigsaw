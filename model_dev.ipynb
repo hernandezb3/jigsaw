{
 "cells": [
  {
   "cell_type": "code",
   "execution_count": 22,
   "metadata": {},
   "outputs": [],
   "source": [
    "import kaggle\n",
    "import pandas as pd\n",
    "from langchain_ollama import OllamaLLM\n",
    "import sklearn"
   ]
  },
  {
   "cell_type": "markdown",
   "metadata": {},
   "source": [
    "### Initialize LLM\n",
    "\n",
    "Start Ollama Docker container (see Resources/docker.sh) and call the model specified in the model_id"
   ]
  },
  {
   "cell_type": "code",
   "execution_count": 16,
   "metadata": {},
   "outputs": [],
   "source": [
    "model_id = \"gemma3\" # ollama\n",
    "ollama_server_url = \"http://localhost:11434\"\n",
    "llm = OllamaLLM(model = model_id, base_url = ollama_server_url)"
   ]
  },
  {
   "cell_type": "markdown",
   "metadata": {},
   "source": [
    "### Read Data\n",
    "Data are from the Kaggle Competition, Jigsaw - Agile Community Rules Classification.\n",
    "\n",
    "Save the following files to the data folder:\n",
    "- train.csv\n",
    "- test.csv\n",
    "- sample_submission.csv"
   ]
  },
  {
   "cell_type": "code",
   "execution_count": null,
   "metadata": {},
   "outputs": [],
   "source": [
    "df = pd.read_csv(\"data/train.csv\")"
   ]
  },
  {
   "cell_type": "markdown",
   "metadata": {},
   "source": [
    "### Prompt LLM\n",
    "Create a loop that first uses information from df to generate a prompt, supply it to the LLM, and then extract the output into the probability list."
   ]
  },
  {
   "cell_type": "code",
   "execution_count": null,
   "metadata": {},
   "outputs": [],
   "source": [
    "probability = []\n",
    "\n",
    "for each_row in df.index:\n",
    "    rule = df[\"rule\"][each_row]\n",
    "    body = df[\"body\"][each_row]\n",
    "    input = \"Calculate the probability that a sample of text violates a rule where, 0 = rule is not violated to 1 = rule is violated. Here is the rule: \" + rule + \". Here is the text: \" + body + \". Structure your response as only a numeric probability ranging from 0.0 to 1.0.\"\n",
    "    response = llm.invoke(input)\n",
    "    probability.append(response)"
   ]
  },
  {
   "cell_type": "markdown",
   "metadata": {},
   "source": [
    "Here's an example of the prompting system but with a single case:"
   ]
  },
  {
   "cell_type": "code",
   "execution_count": null,
   "metadata": {},
   "outputs": [],
   "source": [
    "input = \"Calculate the probability that a sample of text violates a rule where, 0 = rule is not violated to 1 = rule is violated. Here is the rule: \" + df[\"rule\"][0] + \". Here is the text: \" + df[\"body\"][0] + \". Structure your response as only a numeric probability ranging from 0.0 to 1.0.\"\n",
    "response = llm.invoke(input)\n",
    "response"
   ]
  },
  {
   "cell_type": "code",
   "execution_count": null,
   "metadata": {},
   "outputs": [
    {
     "data": {
      "text/plain": [
       "'0.9\\n'"
      ]
     },
     "execution_count": 21,
     "metadata": {},
     "output_type": "execute_result"
    }
   ],
   "source": []
  },
  {
   "cell_type": "code",
   "execution_count": null,
   "metadata": {},
   "outputs": [],
   "source": []
  }
 ],
 "metadata": {
  "kernelspec": {
   "display_name": ".venv",
   "language": "python",
   "name": "python3"
  },
  "language_info": {
   "codemirror_mode": {
    "name": "ipython",
    "version": 3
   },
   "file_extension": ".py",
   "mimetype": "text/x-python",
   "name": "python",
   "nbconvert_exporter": "python",
   "pygments_lexer": "ipython3",
   "version": "3.13.3"
  }
 },
 "nbformat": 4,
 "nbformat_minor": 2
}
